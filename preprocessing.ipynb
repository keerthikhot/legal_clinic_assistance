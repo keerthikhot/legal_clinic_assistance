{
 "cells": [
  {
   "cell_type": "code",
   "execution_count": 1,
   "id": "89da31d2",
   "metadata": {},
   "outputs": [],
   "source": [
    "import json"
   ]
  },
  {
   "cell_type": "code",
   "execution_count": 2,
   "id": "86544dc6",
   "metadata": {},
   "outputs": [],
   "source": [
    "with open(\"E:\\\\merged-0-240_000.json\", \"r\") as f:\n",
    "    data = json.load(f)"
   ]
  },
  {
   "cell_type": "code",
   "execution_count": 3,
   "id": "e5b89299",
   "metadata": {},
   "outputs": [],
   "source": [
    "import pandas as pd"
   ]
  },
  {
   "cell_type": "code",
   "execution_count": 4,
   "id": "d626258a",
   "metadata": {},
   "outputs": [],
   "source": [
    "df = pd.DataFrame(data)\n"
   ]
  },
  {
   "cell_type": "code",
   "execution_count": 5,
   "id": "02c329a0",
   "metadata": {},
   "outputs": [
    {
     "data": {
      "text/html": [
       "<div>\n",
       "<style scoped>\n",
       "    .dataframe tbody tr th:only-of-type {\n",
       "        vertical-align: middle;\n",
       "    }\n",
       "\n",
       "    .dataframe tbody tr th {\n",
       "        vertical-align: top;\n",
       "    }\n",
       "\n",
       "    .dataframe thead th {\n",
       "        text-align: right;\n",
       "    }\n",
       "</style>\n",
       "<table border=\"1\" class=\"dataframe\">\n",
       "  <thead>\n",
       "    <tr style=\"text-align: right;\">\n",
       "      <th></th>\n",
       "      <th>t</th>\n",
       "      <th>s</th>\n",
       "      <th>id</th>\n",
       "      <th>d</th>\n",
       "      <th>c</th>\n",
       "      <th>cl</th>\n",
       "      <th>b</th>\n",
       "      <th>a</th>\n",
       "    </tr>\n",
       "  </thead>\n",
       "  <tbody>\n",
       "    <tr>\n",
       "      <th>0</th>\n",
       "      <td>Hatsun Food Company, Shri R.G. ... vs Commissi...</td>\n",
       "      <td>Customs, Excise and Gold Tribunal - Tamil Nadu</td>\n",
       "      <td>211998</td>\n",
       "      <td>ORDER\\n\\n \\n\\n P.G. Chacko, Member (J)\\n \\n\\n1...</td>\n",
       "      <td>[92590795, 30102403, 110162683, 30102403, 1146...</td>\n",
       "      <td>5</td>\n",
       "      <td></td>\n",
       "      <td>NaN</td>\n",
       "    </tr>\n",
       "    <tr>\n",
       "      <th>1</th>\n",
       "      <td>Atar Singh &amp; Ohters vs State Of U.P. &amp; Another...</td>\n",
       "      <td>Allahabad High Court</td>\n",
       "      <td>212249</td>\n",
       "      <td>Court No. - 34\\n\\nCase :- FIRST APPEAL No. - 8...</td>\n",
       "      <td>[]</td>\n",
       "      <td>0</td>\n",
       "      <td></td>\n",
       "      <td>NaN</td>\n",
       "    </tr>\n",
       "    <tr>\n",
       "      <th>2</th>\n",
       "      <td>Bharat vs State on 18 November, 2011</td>\n",
       "      <td>Gujarat High Court</td>\n",
       "      <td>212734</td>\n",
       "      <td>\\n Gujarat High Court Case Information Syste...</td>\n",
       "      <td>[]</td>\n",
       "      <td>0</td>\n",
       "      <td></td>\n",
       "      <td>Author: J.B.Pardiwala,</td>\n",
       "    </tr>\n",
       "    <tr>\n",
       "      <th>3</th>\n",
       "      <td>Sajith N.L vs State Of Kerala Represented By T...</td>\n",
       "      <td>Kerala High Court</td>\n",
       "      <td>213164</td>\n",
       "      <td>\\n\\n  \\n\\n  \\n\\n \\n \\n  IN THE HIGH COU...</td>\n",
       "      <td>[34253376]</td>\n",
       "      <td>1</td>\n",
       "      <td></td>\n",
       "      <td>NaN</td>\n",
       "    </tr>\n",
       "    <tr>\n",
       "      <th>4</th>\n",
       "      <td>Chandan Lal Dwivedi vs State Of U.P. And Other...</td>\n",
       "      <td>Allahabad High Court</td>\n",
       "      <td>213180</td>\n",
       "      <td>Court No. - 18\\n\\nCase :- WRIT - A No. - 41650...</td>\n",
       "      <td>[]</td>\n",
       "      <td>0</td>\n",
       "      <td></td>\n",
       "      <td>NaN</td>\n",
       "    </tr>\n",
       "  </tbody>\n",
       "</table>\n",
       "</div>"
      ],
      "text/plain": [
       "                                                   t  \\\n",
       "0  Hatsun Food Company, Shri R.G. ... vs Commissi...   \n",
       "1  Atar Singh & Ohters vs State Of U.P. & Another...   \n",
       "2               Bharat vs State on 18 November, 2011   \n",
       "3  Sajith N.L vs State Of Kerala Represented By T...   \n",
       "4  Chandan Lal Dwivedi vs State Of U.P. And Other...   \n",
       "\n",
       "                                                s      id  \\\n",
       "0  Customs, Excise and Gold Tribunal - Tamil Nadu  211998   \n",
       "1                            Allahabad High Court  212249   \n",
       "2                              Gujarat High Court  212734   \n",
       "3                               Kerala High Court  213164   \n",
       "4                            Allahabad High Court  213180   \n",
       "\n",
       "                                                   d  \\\n",
       "0  ORDER\\n\\n \\n\\n P.G. Chacko, Member (J)\\n \\n\\n1...   \n",
       "1  Court No. - 34\\n\\nCase :- FIRST APPEAL No. - 8...   \n",
       "2    \\n Gujarat High Court Case Information Syste...   \n",
       "3         \\n\\n  \\n\\n  \\n\\n \\n \\n  IN THE HIGH COU...   \n",
       "4  Court No. - 18\\n\\nCase :- WRIT - A No. - 41650...   \n",
       "\n",
       "                                                   c  cl b  \\\n",
       "0  [92590795, 30102403, 110162683, 30102403, 1146...   5     \n",
       "1                                                 []   0     \n",
       "2                                                 []   0     \n",
       "3                                         [34253376]   1     \n",
       "4                                                 []   0     \n",
       "\n",
       "                        a  \n",
       "0                     NaN  \n",
       "1                     NaN  \n",
       "2  Author: J.B.Pardiwala,  \n",
       "3                     NaN  \n",
       "4                     NaN  "
      ]
     },
     "execution_count": 5,
     "metadata": {},
     "output_type": "execute_result"
    }
   ],
   "source": [
    "df.head(5)"
   ]
  },
  {
   "cell_type": "code",
   "execution_count": 6,
   "id": "e8bc2910",
   "metadata": {},
   "outputs": [],
   "source": [
    "# Drop multiple columns\n",
    "df.drop(['id', 'c', 'cl','b','a'], axis=1, inplace=True)"
   ]
  },
  {
   "cell_type": "code",
   "execution_count": 7,
   "id": "f5ed2f76",
   "metadata": {},
   "outputs": [
    {
     "data": {
      "text/html": [
       "<div>\n",
       "<style scoped>\n",
       "    .dataframe tbody tr th:only-of-type {\n",
       "        vertical-align: middle;\n",
       "    }\n",
       "\n",
       "    .dataframe tbody tr th {\n",
       "        vertical-align: top;\n",
       "    }\n",
       "\n",
       "    .dataframe thead th {\n",
       "        text-align: right;\n",
       "    }\n",
       "</style>\n",
       "<table border=\"1\" class=\"dataframe\">\n",
       "  <thead>\n",
       "    <tr style=\"text-align: right;\">\n",
       "      <th></th>\n",
       "      <th>t</th>\n",
       "      <th>s</th>\n",
       "      <th>d</th>\n",
       "    </tr>\n",
       "  </thead>\n",
       "  <tbody>\n",
       "    <tr>\n",
       "      <th>0</th>\n",
       "      <td>Hatsun Food Company, Shri R.G. ... vs Commissi...</td>\n",
       "      <td>Customs, Excise and Gold Tribunal - Tamil Nadu</td>\n",
       "      <td>ORDER\\n\\n \\n\\n P.G. Chacko, Member (J)\\n \\n\\n1...</td>\n",
       "    </tr>\n",
       "    <tr>\n",
       "      <th>1</th>\n",
       "      <td>Atar Singh &amp; Ohters vs State Of U.P. &amp; Another...</td>\n",
       "      <td>Allahabad High Court</td>\n",
       "      <td>Court No. - 34\\n\\nCase :- FIRST APPEAL No. - 8...</td>\n",
       "    </tr>\n",
       "    <tr>\n",
       "      <th>2</th>\n",
       "      <td>Bharat vs State on 18 November, 2011</td>\n",
       "      <td>Gujarat High Court</td>\n",
       "      <td>\\n Gujarat High Court Case Information Syste...</td>\n",
       "    </tr>\n",
       "    <tr>\n",
       "      <th>3</th>\n",
       "      <td>Sajith N.L vs State Of Kerala Represented By T...</td>\n",
       "      <td>Kerala High Court</td>\n",
       "      <td>\\n\\n  \\n\\n  \\n\\n \\n \\n  IN THE HIGH COU...</td>\n",
       "    </tr>\n",
       "    <tr>\n",
       "      <th>4</th>\n",
       "      <td>Chandan Lal Dwivedi vs State Of U.P. And Other...</td>\n",
       "      <td>Allahabad High Court</td>\n",
       "      <td>Court No. - 18\\n\\nCase :- WRIT - A No. - 41650...</td>\n",
       "    </tr>\n",
       "    <tr>\n",
       "      <th>5</th>\n",
       "      <td>Bali Alias Bahal Singh vs State Of Rajasthan o...</td>\n",
       "      <td>Rajasthan High Court</td>\n",
       "      <td>Name of accused-         Convicted under sect...</td>\n",
       "    </tr>\n",
       "    <tr>\n",
       "      <th>6</th>\n",
       "      <td>[Section 30]      [Complete Act]</td>\n",
       "      <td>Central Government Act</td>\n",
       "      <td></td>\n",
       "    </tr>\n",
       "    <tr>\n",
       "      <th>7</th>\n",
       "      <td>M/S.Padmavati Enterprises vs The Deputy Commis...</td>\n",
       "      <td>Madras High Court</td>\n",
       "      <td>...</td>\n",
       "    </tr>\n",
       "    <tr>\n",
       "      <th>8</th>\n",
       "      <td>[Section 30(1)]      [Section 30]      ...</td>\n",
       "      <td>Central Government Act</td>\n",
       "      <td></td>\n",
       "    </tr>\n",
       "    <tr>\n",
       "      <th>9</th>\n",
       "      <td>Banarsi Das And Ors. vs Sagar Mal on 22 Februa...</td>\n",
       "      <td>Allahabad High Court</td>\n",
       "      <td>JUDGMENT\\n \\n\\n1. This is an application purpo...</td>\n",
       "    </tr>\n",
       "  </tbody>\n",
       "</table>\n",
       "</div>"
      ],
      "text/plain": [
       "                                                   t  \\\n",
       "0  Hatsun Food Company, Shri R.G. ... vs Commissi...   \n",
       "1  Atar Singh & Ohters vs State Of U.P. & Another...   \n",
       "2               Bharat vs State on 18 November, 2011   \n",
       "3  Sajith N.L vs State Of Kerala Represented By T...   \n",
       "4  Chandan Lal Dwivedi vs State Of U.P. And Other...   \n",
       "5  Bali Alias Bahal Singh vs State Of Rajasthan o...   \n",
       "6                 [Section 30]      [Complete Act]     \n",
       "7  M/S.Padmavati Enterprises vs The Deputy Commis...   \n",
       "8         [Section 30(1)]      [Section 30]      ...   \n",
       "9  Banarsi Das And Ors. vs Sagar Mal on 22 Februa...   \n",
       "\n",
       "                                                s  \\\n",
       "0  Customs, Excise and Gold Tribunal - Tamil Nadu   \n",
       "1                            Allahabad High Court   \n",
       "2                              Gujarat High Court   \n",
       "3                               Kerala High Court   \n",
       "4                            Allahabad High Court   \n",
       "5                            Rajasthan High Court   \n",
       "6                          Central Government Act   \n",
       "7                               Madras High Court   \n",
       "8                          Central Government Act   \n",
       "9                            Allahabad High Court   \n",
       "\n",
       "                                                   d  \n",
       "0  ORDER\\n\\n \\n\\n P.G. Chacko, Member (J)\\n \\n\\n1...  \n",
       "1  Court No. - 34\\n\\nCase :- FIRST APPEAL No. - 8...  \n",
       "2    \\n Gujarat High Court Case Information Syste...  \n",
       "3         \\n\\n  \\n\\n  \\n\\n \\n \\n  IN THE HIGH COU...  \n",
       "4  Court No. - 18\\n\\nCase :- WRIT - A No. - 41650...  \n",
       "5   Name of accused-         Convicted under sect...  \n",
       "6                                                     \n",
       "7                                                ...  \n",
       "8                                                     \n",
       "9  JUDGMENT\\n \\n\\n1. This is an application purpo...  "
      ]
     },
     "execution_count": 7,
     "metadata": {},
     "output_type": "execute_result"
    }
   ],
   "source": [
    "df.head(10)"
   ]
  },
  {
   "cell_type": "code",
   "execution_count": 8,
   "id": "a6915c2f",
   "metadata": {},
   "outputs": [
    {
     "name": "stdout",
     "output_type": "stream",
     "text": [
      "Requirement already satisfied: transformers in c:\\users\\keerti\\anaconda3\\lib\\site-packages (4.37.2)\n",
      "Requirement already satisfied: regex!=2019.12.17 in c:\\users\\keerti\\appdata\\roaming\\python\\python39\\site-packages (from transformers) (2021.9.30)\n",
      "Requirement already satisfied: packaging>=20.0 in c:\\users\\keerti\\anaconda3\\lib\\site-packages (from transformers) (21.3)\n",
      "Requirement already satisfied: requests in c:\\users\\keerti\\appdata\\roaming\\python\\python39\\site-packages (from transformers) (2.25.1)\n",
      "Requirement already satisfied: pyyaml>=5.1 in c:\\users\\keerti\\appdata\\roaming\\python\\python39\\site-packages (from transformers) (5.4.1)\n",
      "Requirement already satisfied: tqdm>=4.27 in c:\\users\\keerti\\anaconda3\\lib\\site-packages (from transformers) (4.64.1)\n",
      "Requirement already satisfied: safetensors>=0.4.1 in c:\\users\\keerti\\anaconda3\\lib\\site-packages (from transformers) (0.4.2)\n",
      "Requirement already satisfied: filelock in c:\\users\\keerti\\anaconda3\\lib\\site-packages (from transformers) (3.6.0)\n",
      "Requirement already satisfied: numpy>=1.17 in c:\\users\\keerti\\appdata\\roaming\\python\\python39\\site-packages (from transformers) (1.20.3)\n",
      "Requirement already satisfied: huggingface-hub<1.0,>=0.19.3 in c:\\users\\keerti\\anaconda3\\lib\\site-packages (from transformers) (0.20.3)\n",
      "Requirement already satisfied: tokenizers<0.19,>=0.14 in c:\\users\\keerti\\anaconda3\\lib\\site-packages (from transformers) (0.15.2)\n",
      "Requirement already satisfied: fsspec>=2023.5.0 in c:\\users\\keerti\\anaconda3\\lib\\site-packages (from huggingface-hub<1.0,>=0.19.3->transformers) (2024.2.0)\n",
      "Requirement already satisfied: typing-extensions>=3.7.4.3 in c:\\users\\keerti\\appdata\\roaming\\python\\python39\\site-packages (from huggingface-hub<1.0,>=0.19.3->transformers) (3.10.0.0)\n",
      "Requirement already satisfied: pyparsing!=3.0.5,>=2.0.2 in c:\\users\\keerti\\anaconda3\\lib\\site-packages (from packaging>=20.0->transformers) (3.0.9)\n",
      "Requirement already satisfied: colorama in c:\\users\\keerti\\anaconda3\\lib\\site-packages (from tqdm>=4.27->transformers) (0.4.5)\n",
      "Requirement already satisfied: certifi>=2017.4.17 in c:\\users\\keerti\\anaconda3\\lib\\site-packages (from requests->transformers) (2022.9.14)\n",
      "Requirement already satisfied: chardet<5,>=3.0.2 in c:\\users\\keerti\\anaconda3\\lib\\site-packages (from requests->transformers) (4.0.0)\n",
      "Requirement already satisfied: idna<3,>=2.5 in c:\\users\\keerti\\appdata\\roaming\\python\\python39\\site-packages (from requests->transformers) (2.10)\n",
      "Requirement already satisfied: urllib3<1.27,>=1.21.1 in c:\\users\\keerti\\anaconda3\\lib\\site-packages (from requests->transformers) (1.26.11)\n"
     ]
    },
    {
     "name": "stderr",
     "output_type": "stream",
     "text": [
      "\n",
      "[notice] A new release of pip is available: 23.0 -> 24.0\n",
      "[notice] To update, run: python.exe -m pip install --upgrade pip\n"
     ]
    }
   ],
   "source": [
    "!pip install transformers"
   ]
  },
  {
   "cell_type": "code",
   "execution_count": 9,
   "id": "c834782b",
   "metadata": {},
   "outputs": [],
   "source": [
    "import re\n",
    "import nltk\n",
    "from transformers import DistilBertTokenizer"
   ]
  },
  {
   "cell_type": "code",
   "execution_count": 10,
   "id": "d8f01425",
   "metadata": {},
   "outputs": [
    {
     "name": "stderr",
     "output_type": "stream",
     "text": [
      "[nltk_data] Downloading package punkt to\n",
      "[nltk_data]     C:\\Users\\KEERTI\\AppData\\Roaming\\nltk_data...\n",
      "[nltk_data]   Package punkt is already up-to-date!\n",
      "[nltk_data] Downloading package stopwords to\n",
      "[nltk_data]     C:\\Users\\KEERTI\\AppData\\Roaming\\nltk_data...\n",
      "[nltk_data]   Package stopwords is already up-to-date!\n",
      "[nltk_data] Downloading package wordnet to\n",
      "[nltk_data]     C:\\Users\\KEERTI\\AppData\\Roaming\\nltk_data...\n",
      "[nltk_data]   Package wordnet is already up-to-date!\n"
     ]
    }
   ],
   "source": [
    "# Download NLTK resources (only need to do this once)\n",
    "nltk.download('punkt')\n",
    "nltk.download('stopwords')\n",
    "nltk.download('wordnet')\n",
    "\n",
    "# Initialize DistilBERT tokenizer\n",
    "tokenizer = DistilBertTokenizer.from_pretrained('distilbert-base-uncased')\n",
    "\n",
    "# Initialize WordNet lemmatizer and set of English stopwords\n",
    "lemmatizer = nltk.stem.WordNetLemmatizer()\n",
    "stop_words = set(nltk.corpus.stopwords.words('english'))"
   ]
  },
  {
   "cell_type": "code",
   "execution_count": 11,
   "id": "2b985ed7",
   "metadata": {},
   "outputs": [],
   "source": [
    "# Function to preprocess a single text\n",
    "def preprocess_text(text):\n",
    "    # Remove special characters and convert to lowercase\n",
    "    text = re.sub(r'[^a-zA-Z0-9\\s]', '', text.lower())\n",
    "    # Tokenize the text using DistilBERT tokenizer\n",
    "    tokens = tokenizer.tokenize(text)\n",
    "    # Remove stopwords, single characters, and perform lemmatization\n",
    "    filtered_tokens = [lemmatizer.lemmatize(token) for token in tokens \n",
    "                       if token.lower() not in stop_words and len(token) > 1]\n",
    "    # Join the tokens back into a string\n",
    "    preprocessed_text = ' '.join(filtered_tokens)\n",
    "    return preprocessed_text\n"
   ]
  },
  {
   "cell_type": "code",
   "execution_count": 12,
   "id": "92b9ee60",
   "metadata": {},
   "outputs": [],
   "source": [
    "# Apply preprocessing to 't', 's', and 'd' columns in the DataFrame\n",
    "df['t'] = df['t'].apply(preprocess_text)\n",
    "df['s'] = df['s'].apply(preprocess_text)\n",
    "df['d'] = df['d'].apply(preprocess_text)\n",
    "\n",
    "# Tokenize and encode the preprocessed text\n",
    "encoded_data = tokenizer(df['t'].tolist(), df['s'].tolist(), df['d'].tolist(), \n",
    "                         padding=True, truncation=True, return_tensors='pt')\n"
   ]
  },
  {
   "cell_type": "code",
   "execution_count": 14,
   "id": "494d2b31",
   "metadata": {},
   "outputs": [
    {
     "name": "stdout",
     "output_type": "stream",
     "text": [
      "{'input_ids': tensor([[  101,  6045,  1001,  ...,     0,     0,     0],\n",
      "        [  101, 29533,  1001,  ...,     0,     0,     0],\n",
      "        [  101,  1001,  1001,  ...,     0,     0,     0],\n",
      "        ...,\n",
      "        [  101,  2930,  4029,  ...,     0,     0,     0],\n",
      "        [  101,  5472,  1001,  ...,     0,     0,     0],\n",
      "        [  101,  6294,  1001,  ...,     0,     0,     0]]), 'attention_mask': tensor([[1, 1, 1,  ..., 0, 0, 0],\n",
      "        [1, 1, 1,  ..., 0, 0, 0],\n",
      "        [1, 1, 1,  ..., 0, 0, 0],\n",
      "        ...,\n",
      "        [1, 1, 1,  ..., 0, 0, 0],\n",
      "        [1, 1, 1,  ..., 0, 0, 0],\n",
      "        [1, 1, 1,  ..., 0, 0, 0]]), 'labels': tensor([[  101,  2344, 18720,  ...,  3568, 12040,   102],\n",
      "        [  101,  2457,  4090,  ...,     0,     0,     0],\n",
      "        [  101, 14288,  2152,  ...,     0,     0,     0],\n",
      "        ...,\n",
      "        [  101,   102,     0,  ...,     0,     0,     0],\n",
      "        [  101,  2152,  2457,  ...,     0,     0,     0],\n",
      "        [  101,  8689,  6643,  ...,  2832,  4233,   102]])}\n"
     ]
    }
   ],
   "source": [
    "print(encoded_data)"
   ]
  },
  {
   "cell_type": "code",
   "execution_count": 16,
   "id": "a87da9d7",
   "metadata": {},
   "outputs": [
    {
     "data": {
      "text/html": [
       "<div>\n",
       "<style scoped>\n",
       "    .dataframe tbody tr th:only-of-type {\n",
       "        vertical-align: middle;\n",
       "    }\n",
       "\n",
       "    .dataframe tbody tr th {\n",
       "        vertical-align: top;\n",
       "    }\n",
       "\n",
       "    .dataframe thead th {\n",
       "        text-align: right;\n",
       "    }\n",
       "</style>\n",
       "<table border=\"1\" class=\"dataframe\">\n",
       "  <thead>\n",
       "    <tr style=\"text-align: right;\">\n",
       "      <th></th>\n",
       "      <th>t</th>\n",
       "      <th>s</th>\n",
       "      <th>d</th>\n",
       "    </tr>\n",
       "  </thead>\n",
       "  <tbody>\n",
       "    <tr>\n",
       "      <th>0</th>\n",
       "      <td>hat ##un food company shri ##g v commissioner ...</td>\n",
       "      <td>custom ex ##cise gold tribunal tamil nadu</td>\n",
       "      <td>order pg cha ##cko member appeal order commiss...</td>\n",
       "    </tr>\n",
       "    <tr>\n",
       "      <th>1</th>\n",
       "      <td>ata ##r singh oh ##ters v state another februa...</td>\n",
       "      <td>allah ##abad high court</td>\n",
       "      <td>court 34 case first appeal 81 ##8 1995 petitio...</td>\n",
       "    </tr>\n",
       "  </tbody>\n",
       "</table>\n",
       "</div>"
      ],
      "text/plain": [
       "                                                   t  \\\n",
       "0  hat ##un food company shri ##g v commissioner ...   \n",
       "1  ata ##r singh oh ##ters v state another februa...   \n",
       "\n",
       "                                           s  \\\n",
       "0  custom ex ##cise gold tribunal tamil nadu   \n",
       "1                    allah ##abad high court   \n",
       "\n",
       "                                                   d  \n",
       "0  order pg cha ##cko member appeal order commiss...  \n",
       "1  court 34 case first appeal 81 ##8 1995 petitio...  "
      ]
     },
     "execution_count": 16,
     "metadata": {},
     "output_type": "execute_result"
    }
   ],
   "source": [
    "df.head(2)"
   ]
  },
  {
   "cell_type": "code",
   "execution_count": 19,
   "id": "cbefbb5a",
   "metadata": {},
   "outputs": [
    {
     "name": "stdout",
     "output_type": "stream",
     "text": [
      "{'input_ids': tensor([[  101,  6045,  1001,  ...,     0,     0,     0],\n",
      "        [  101, 29533,  1001,  ...,     0,     0,     0],\n",
      "        [  101,  1001,  1001,  ...,     0,     0,     0],\n",
      "        ...,\n",
      "        [  101,  2930,  4029,  ...,     0,     0,     0],\n",
      "        [  101,  5472,  1001,  ...,     0,     0,     0],\n",
      "        [  101,  6294,  1001,  ...,     0,     0,     0]]), 'attention_mask': tensor([[1, 1, 1,  ..., 0, 0, 0],\n",
      "        [1, 1, 1,  ..., 0, 0, 0],\n",
      "        [1, 1, 1,  ..., 0, 0, 0],\n",
      "        ...,\n",
      "        [1, 1, 1,  ..., 0, 0, 0],\n",
      "        [1, 1, 1,  ..., 0, 0, 0],\n",
      "        [1, 1, 1,  ..., 0, 0, 0]]), 'labels': tensor([[  101,  2344, 18720,  ...,  3568, 12040,   102],\n",
      "        [  101,  2457,  4090,  ...,     0,     0,     0],\n",
      "        [  101, 14288,  2152,  ...,     0,     0,     0],\n",
      "        ...,\n",
      "        [  101,   102,     0,  ...,     0,     0,     0],\n",
      "        [  101,  2152,  2457,  ...,     0,     0,     0],\n",
      "        [  101,  8689,  6643,  ...,  2832,  4233,   102]])}\n"
     ]
    }
   ],
   "source": [
    "print(encoded_data)"
   ]
  },
  {
   "cell_type": "code",
   "execution_count": 18,
   "id": "588bd49b",
   "metadata": {},
   "outputs": [],
   "source": [
    "import pandas as pd\n",
    "\n",
    "# Assuming 'encoded_data' is your DataFrame\n",
    "df.to_csv(\"E:\\\\new.csv\", index=False)"
   ]
  },
  {
   "cell_type": "code",
   "execution_count": null,
   "id": "6e58bba4",
   "metadata": {},
   "outputs": [],
   "source": []
  }
 ],
 "metadata": {
  "kernelspec": {
   "display_name": "Python 3 (ipykernel)",
   "language": "python",
   "name": "python3"
  },
  "language_info": {
   "codemirror_mode": {
    "name": "ipython",
    "version": 3
   },
   "file_extension": ".py",
   "mimetype": "text/x-python",
   "name": "python",
   "nbconvert_exporter": "python",
   "pygments_lexer": "ipython3",
   "version": "3.9.13"
  }
 },
 "nbformat": 4,
 "nbformat_minor": 5
}
